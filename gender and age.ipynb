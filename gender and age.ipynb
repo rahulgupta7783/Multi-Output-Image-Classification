{
 "cells": [
  {
   "cell_type": "markdown",
   "id": "6d9960fe",
   "metadata": {},
   "source": [
    "# Image gender and age"
   ]
  },
  {
   "cell_type": "code",
   "execution_count": 1,
   "id": "d9ad4959",
   "metadata": {},
   "outputs": [
    {
     "name": "stderr",
     "output_type": "stream",
     "text": [
      "C:\\Users\\RAHUL KUMAR\\AppData\\Roaming\\Python\\Python311\\site-packages\\pandas\\core\\arrays\\masked.py:60: UserWarning: Pandas requires version '1.3.6' or newer of 'bottleneck' (version '1.3.5' currently installed).\n",
      "  from pandas.core import (\n"
     ]
    },
    {
     "name": "stdout",
     "output_type": "stream",
     "text": [
      "WARNING:tensorflow:From C:\\Users\\RAHUL KUMAR\\AppData\\Roaming\\Python\\Python311\\site-packages\\keras\\src\\losses.py:2976: The name tf.losses.sparse_softmax_cross_entropy is deprecated. Please use tf.compat.v1.losses.sparse_softmax_cross_entropy instead.\n",
      "\n"
     ]
    }
   ],
   "source": [
    "import pandas as pd\n",
    "import numpy as np\n",
    "import matplotlib.pyplot as plt\n",
    "import seaborn as sns\n",
    "\n",
    "import tensorflow as tf\n",
    "from tensorflow import keras\n",
    "\n",
    "from keras.layers import *\n",
    "from keras import Sequential\n",
    "from keras.preprocessing.image import ImageDataGenerator\n",
    "from keras.applications.vgg16 import VGG16\n",
    "from keras import Model\n",
    "\n",
    "import cv2\n",
    "\n",
    "\n",
    "\n",
    "from sklearn.model_selection import train_test_split\n",
    "\n",
    "import os\n",
    "import warnings\n",
    "warnings.filterwarnings(\"ignore\")"
   ]
  },
  {
   "cell_type": "code",
   "execution_count": 2,
   "id": "aa532020",
   "metadata": {},
   "outputs": [],
   "source": [
    "df=pd.DataFrame({\"img\":os.listdir(r\"D:\\Ukface\\archive (5)\\UTKFace\")})"
   ]
  },
  {
   "cell_type": "code",
   "execution_count": 3,
   "id": "a0a27272",
   "metadata": {},
   "outputs": [
    {
     "data": {
      "text/html": [
       "<div>\n",
       "<style scoped>\n",
       "    .dataframe tbody tr th:only-of-type {\n",
       "        vertical-align: middle;\n",
       "    }\n",
       "\n",
       "    .dataframe tbody tr th {\n",
       "        vertical-align: top;\n",
       "    }\n",
       "\n",
       "    .dataframe thead th {\n",
       "        text-align: right;\n",
       "    }\n",
       "</style>\n",
       "<table border=\"1\" class=\"dataframe\">\n",
       "  <thead>\n",
       "    <tr style=\"text-align: right;\">\n",
       "      <th></th>\n",
       "      <th>img</th>\n",
       "    </tr>\n",
       "  </thead>\n",
       "  <tbody>\n",
       "    <tr>\n",
       "      <th>0</th>\n",
       "      <td>100_0_0_20170112213500903.jpg.chip.jpg</td>\n",
       "    </tr>\n",
       "    <tr>\n",
       "      <th>1</th>\n",
       "      <td>100_0_0_20170112215240346.jpg.chip.jpg</td>\n",
       "    </tr>\n",
       "    <tr>\n",
       "      <th>2</th>\n",
       "      <td>100_1_0_20170110183726390.jpg.chip.jpg</td>\n",
       "    </tr>\n",
       "    <tr>\n",
       "      <th>3</th>\n",
       "      <td>100_1_0_20170112213001988.jpg.chip.jpg</td>\n",
       "    </tr>\n",
       "    <tr>\n",
       "      <th>4</th>\n",
       "      <td>100_1_0_20170112213303693.jpg.chip.jpg</td>\n",
       "    </tr>\n",
       "  </tbody>\n",
       "</table>\n",
       "</div>"
      ],
      "text/plain": [
       "                                      img\n",
       "0  100_0_0_20170112213500903.jpg.chip.jpg\n",
       "1  100_0_0_20170112215240346.jpg.chip.jpg\n",
       "2  100_1_0_20170110183726390.jpg.chip.jpg\n",
       "3  100_1_0_20170112213001988.jpg.chip.jpg\n",
       "4  100_1_0_20170112213303693.jpg.chip.jpg"
      ]
     },
     "execution_count": 3,
     "metadata": {},
     "output_type": "execute_result"
    }
   ],
   "source": [
    "df.head()"
   ]
  },
  {
   "cell_type": "code",
   "execution_count": 4,
   "id": "9604b776",
   "metadata": {},
   "outputs": [],
   "source": [
    "df[\"age\"]=df.img.apply(lambda x:int(x.split(\"_\")[0]))\n",
    "df[\"sex\"]=df.img.apply(lambda x:0 if int(x.split(\"_\")[1])==0 else 1)"
   ]
  },
  {
   "cell_type": "code",
   "execution_count": 5,
   "id": "ceaf4e1a",
   "metadata": {},
   "outputs": [
    {
     "data": {
      "text/html": [
       "<div>\n",
       "<style scoped>\n",
       "    .dataframe tbody tr th:only-of-type {\n",
       "        vertical-align: middle;\n",
       "    }\n",
       "\n",
       "    .dataframe tbody tr th {\n",
       "        vertical-align: top;\n",
       "    }\n",
       "\n",
       "    .dataframe thead th {\n",
       "        text-align: right;\n",
       "    }\n",
       "</style>\n",
       "<table border=\"1\" class=\"dataframe\">\n",
       "  <thead>\n",
       "    <tr style=\"text-align: right;\">\n",
       "      <th></th>\n",
       "      <th>img</th>\n",
       "      <th>age</th>\n",
       "      <th>sex</th>\n",
       "    </tr>\n",
       "  </thead>\n",
       "  <tbody>\n",
       "    <tr>\n",
       "      <th>0</th>\n",
       "      <td>100_0_0_20170112213500903.jpg.chip.jpg</td>\n",
       "      <td>100</td>\n",
       "      <td>0</td>\n",
       "    </tr>\n",
       "    <tr>\n",
       "      <th>1</th>\n",
       "      <td>100_0_0_20170112215240346.jpg.chip.jpg</td>\n",
       "      <td>100</td>\n",
       "      <td>0</td>\n",
       "    </tr>\n",
       "    <tr>\n",
       "      <th>2</th>\n",
       "      <td>100_1_0_20170110183726390.jpg.chip.jpg</td>\n",
       "      <td>100</td>\n",
       "      <td>1</td>\n",
       "    </tr>\n",
       "    <tr>\n",
       "      <th>3</th>\n",
       "      <td>100_1_0_20170112213001988.jpg.chip.jpg</td>\n",
       "      <td>100</td>\n",
       "      <td>1</td>\n",
       "    </tr>\n",
       "    <tr>\n",
       "      <th>4</th>\n",
       "      <td>100_1_0_20170112213303693.jpg.chip.jpg</td>\n",
       "      <td>100</td>\n",
       "      <td>1</td>\n",
       "    </tr>\n",
       "  </tbody>\n",
       "</table>\n",
       "</div>"
      ],
      "text/plain": [
       "                                      img  age  sex\n",
       "0  100_0_0_20170112213500903.jpg.chip.jpg  100    0\n",
       "1  100_0_0_20170112215240346.jpg.chip.jpg  100    0\n",
       "2  100_1_0_20170110183726390.jpg.chip.jpg  100    1\n",
       "3  100_1_0_20170112213001988.jpg.chip.jpg  100    1\n",
       "4  100_1_0_20170112213303693.jpg.chip.jpg  100    1"
      ]
     },
     "execution_count": 5,
     "metadata": {},
     "output_type": "execute_result"
    }
   ],
   "source": [
    "df.head()"
   ]
  },
  {
   "cell_type": "code",
   "execution_count": 6,
   "id": "e14348a8",
   "metadata": {},
   "outputs": [
    {
     "data": {
      "text/plain": [
       "array([0, 1], dtype=int64)"
      ]
     },
     "execution_count": 6,
     "metadata": {},
     "output_type": "execute_result"
    }
   ],
   "source": [
    "df.sex.unique()"
   ]
  },
  {
   "cell_type": "code",
   "execution_count": 7,
   "id": "758e514f",
   "metadata": {},
   "outputs": [
    {
     "data": {
      "text/plain": [
       "<Axes: xlabel='age', ylabel='Count'>"
      ]
     },
     "execution_count": 7,
     "metadata": {},
     "output_type": "execute_result"
    },
    {
     "data": {
      "image/png": "[encoded data removed]",
      "text/plain": [
       "<Figure size 640x480 with 1 Axes>"
      ]
     },
     "metadata": {},
     "output_type": "display_data"
    }
   ],
   "source": [
    "sns.histplot(df.age)"
   ]
  },
  {
   "cell_type": "code",
   "execution_count": 154,
   "id": "5b61bfb5",
   "metadata": {},
   "outputs": [],
   "source": [
    "train_df,test_df=train_test_split(df,test_size=0.2)"
   ]
  },
  {
   "cell_type": "code",
   "execution_count": 9,
   "id": "38cb575e",
   "metadata": {},
   "outputs": [
    {
     "data": {
      "text/html": [
       "<div>\n",
       "<style scoped>\n",
       "    .dataframe tbody tr th:only-of-type {\n",
       "        vertical-align: middle;\n",
       "    }\n",
       "\n",
       "    .dataframe tbody tr th {\n",
       "        vertical-align: top;\n",
       "    }\n",
       "\n",
       "    .dataframe thead th {\n",
       "        text-align: right;\n",
       "    }\n",
       "</style>\n",
       "<table border=\"1\" class=\"dataframe\">\n",
       "  <thead>\n",
       "    <tr style=\"text-align: right;\">\n",
       "      <th></th>\n",
       "      <th>img</th>\n",
       "      <th>age</th>\n",
       "      <th>sex</th>\n",
       "    </tr>\n",
       "  </thead>\n",
       "  <tbody>\n",
       "    <tr>\n",
       "      <th>470</th>\n",
       "      <td>14_0_0_20170104011738192.jpg.chip.jpg</td>\n",
       "      <td>14</td>\n",
       "      <td>female</td>\n",
       "    </tr>\n",
       "    <tr>\n",
       "      <th>7731</th>\n",
       "      <td>26_1_3_20170119180813956.jpg.chip.jpg</td>\n",
       "      <td>26</td>\n",
       "      <td>male</td>\n",
       "    </tr>\n",
       "    <tr>\n",
       "      <th>12478</th>\n",
       "      <td>34_0_0_20170119180157900.jpg.chip.jpg</td>\n",
       "      <td>34</td>\n",
       "      <td>female</td>\n",
       "    </tr>\n",
       "    <tr>\n",
       "      <th>15881</th>\n",
       "      <td>41_0_0_20170117131137875.jpg.chip.jpg</td>\n",
       "      <td>41</td>\n",
       "      <td>female</td>\n",
       "    </tr>\n",
       "    <tr>\n",
       "      <th>14331</th>\n",
       "      <td>37_0_3_20170119202410749.jpg.chip.jpg</td>\n",
       "      <td>37</td>\n",
       "      <td>female</td>\n",
       "    </tr>\n",
       "  </tbody>\n",
       "</table>\n",
       "</div>"
      ],
      "text/plain": [
       "                                         img  age     sex\n",
       "470    14_0_0_20170104011738192.jpg.chip.jpg   14  female\n",
       "7731   26_1_3_20170119180813956.jpg.chip.jpg   26    male\n",
       "12478  34_0_0_20170119180157900.jpg.chip.jpg   34  female\n",
       "15881  41_0_0_20170117131137875.jpg.chip.jpg   41  female\n",
       "14331  37_0_3_20170119202410749.jpg.chip.jpg   37  female"
      ]
     },
     "execution_count": 9,
     "metadata": {},
     "output_type": "execute_result"
    }
   ],
   "source": [
    "train_df.head()"
   ]
  },
  {
   "cell_type": "code",
   "execution_count": 10,
   "id": "3b1b85db",
   "metadata": {},
   "outputs": [
    {
     "data": {
      "text/html": [
       "<div>\n",
       "<style scoped>\n",
       "    .dataframe tbody tr th:only-of-type {\n",
       "        vertical-align: middle;\n",
       "    }\n",
       "\n",
       "    .dataframe tbody tr th {\n",
       "        vertical-align: top;\n",
       "    }\n",
       "\n",
       "    .dataframe thead th {\n",
       "        text-align: right;\n",
       "    }\n",
       "</style>\n",
       "<table border=\"1\" class=\"dataframe\">\n",
       "  <thead>\n",
       "    <tr style=\"text-align: right;\">\n",
       "      <th></th>\n",
       "      <th>img</th>\n",
       "      <th>age</th>\n",
       "      <th>sex</th>\n",
       "    </tr>\n",
       "  </thead>\n",
       "  <tbody>\n",
       "    <tr>\n",
       "      <th>23642</th>\n",
       "      <td>9_0_0_20170110225249086.jpg.chip.jpg</td>\n",
       "      <td>9</td>\n",
       "      <td>female</td>\n",
       "    </tr>\n",
       "    <tr>\n",
       "      <th>11693</th>\n",
       "      <td>32_0_0_20170117182429685.jpg.chip.jpg</td>\n",
       "      <td>32</td>\n",
       "      <td>female</td>\n",
       "    </tr>\n",
       "    <tr>\n",
       "      <th>8241</th>\n",
       "      <td>27_1_0_20170104234600194.jpg.chip.jpg</td>\n",
       "      <td>27</td>\n",
       "      <td>male</td>\n",
       "    </tr>\n",
       "    <tr>\n",
       "      <th>14783</th>\n",
       "      <td>39_0_0_20170103183230555.jpg.chip.jpg</td>\n",
       "      <td>39</td>\n",
       "      <td>female</td>\n",
       "    </tr>\n",
       "    <tr>\n",
       "      <th>14094</th>\n",
       "      <td>36_1_1_20170116155035948.jpg.chip.jpg</td>\n",
       "      <td>36</td>\n",
       "      <td>male</td>\n",
       "    </tr>\n",
       "  </tbody>\n",
       "</table>\n",
       "</div>"
      ],
      "text/plain": [
       "                                         img  age     sex\n",
       "23642   9_0_0_20170110225249086.jpg.chip.jpg    9  female\n",
       "11693  32_0_0_20170117182429685.jpg.chip.jpg   32  female\n",
       "8241   27_1_0_20170104234600194.jpg.chip.jpg   27    male\n",
       "14783  39_0_0_20170103183230555.jpg.chip.jpg   39  female\n",
       "14094  36_1_1_20170116155035948.jpg.chip.jpg   36    male"
      ]
     },
     "execution_count": 10,
     "metadata": {},
     "output_type": "execute_result"
    }
   ],
   "source": [
    "test_df.head()"
   ]
  },
  {
   "cell_type": "markdown",
   "id": "d8d398e0",
   "metadata": {},
   "source": [
    "# Lets try to predict Gender first "
   ]
  },
  {
   "cell_type": "code",
   "execution_count": 11,
   "id": "af3b15e3",
   "metadata": {},
   "outputs": [],
   "source": [
    "train_datagen=ImageDataGenerator(rotation_range=0.3,shear_range=0.2,zoom_range=0.3,rescale=1/255)\n",
    "\n",
    "test_datagen=ImageDataGenerator(rescale=1/255)"
   ]
  },
  {
   "cell_type": "code",
   "execution_count": 12,
   "id": "8ad26b07",
   "metadata": {},
   "outputs": [
    {
     "name": "stdout",
     "output_type": "stream",
     "text": [
      "Found 18966 validated image filenames belonging to 2 classes.\n"
     ]
    }
   ],
   "source": [
    "train_img=train_datagen.flow_from_dataframe(train_df,directory=r\"D:\\Ukface\\archive (5)\\UTKFace\",x_col='img',\n",
    "                                           y_col=\"sex\",batch_size=32,class_mode=\"binary\")"
   ]
  },
  {
   "cell_type": "code",
   "execution_count": 13,
   "id": "5503140e",
   "metadata": {},
   "outputs": [
    {
     "name": "stdout",
     "output_type": "stream",
     "text": [
      "Found 4742 validated image filenames belonging to 2 classes.\n"
     ]
    }
   ],
   "source": [
    "test_img=test_datagen.flow_from_dataframe(test_df,directory=r\"D:\\Ukface\\archive (5)\\UTKFace\",x_col='img',\n",
    "                                           y_col=\"sex\",batch_size=32,class_mode=\"binary\")"
   ]
  },
  {
   "cell_type": "code",
   "execution_count": 16,
   "id": "c3b467b8",
   "metadata": {},
   "outputs": [
    {
     "data": {
      "image/png": "[encoded data removed]",
      "text/plain": [
       "<Figure size 640x480 with 8 Axes>"
      ]
     },
     "metadata": {},
     "output_type": "display_data"
    }
   ],
   "source": [
    "a=next(train_img)\n",
    "\n",
    "\n",
    "for i in range(1,9):\n",
    "    plt.subplot(3,3,i)\n",
    "    plt.imshow(a[0][i])\n",
    "    plt.title(a[1][i])\n",
    "    \n",
    "    \n",
    "plt.tight_layout()"
   ]
  },
  {
   "cell_type": "markdown",
   "id": "f0492e17",
   "metadata": {},
   "source": [
    "# Lets try transfer Learninig"
   ]
  },
  {
   "cell_type": "code",
   "execution_count": 121,
   "id": "67f868b4",
   "metadata": {},
   "outputs": [
    {
     "name": "stdout",
     "output_type": "stream",
     "text": [
      "WARNING:tensorflow:`input_shape` is undefined or non-square, or `rows` is not in [128, 160, 192, 224]. Weights for input shape (224, 224) will be loaded as the default.\n"
     ]
    }
   ],
   "source": [
    "conv_base=keras.applications.MobileNet(input_shape=(256,256,3),include_top=False)"
   ]
  },
  {
   "cell_type": "code",
   "execution_count": 122,
   "id": "45cbfb95",
   "metadata": {},
   "outputs": [
    {
     "name": "stdout",
     "output_type": "stream",
     "text": [
      "Model: \"mobilenet_1.00_224\"\n",
      "_________________________________________________________________\n",
      " Layer (type)                Output Shape              Param #   \n",
      "=================================================================\n",
      " input_8 (InputLayer)        [(None, 256, 256, 3)]     0         \n",
      "                                                                 \n",
      " conv1 (Conv2D)              (None, 128, 128, 32)      864       \n",
      "                                                                 \n",
      " conv1_bn (BatchNormalizati  (None, 128, 128, 32)      128       \n",
      " on)                                                             \n",
      "                                                                 \n",
      " conv1_relu (ReLU)           (None, 128, 128, 32)      0         \n",
      "                                                                 \n",
      " conv_dw_1 (DepthwiseConv2D  (None, 128, 128, 32)      288       \n",
      " )                                                               \n",
      "                                                                 \n",
      " conv_dw_1_bn (BatchNormali  (None, 128, 128, 32)      128       \n",
      " zation)                                                         \n",
      "                                                                 \n",
      " conv_dw_1_relu (ReLU)       (None, 128, 128, 32)      0         \n",
      "                                                                 \n",
      " conv_pw_1 (Conv2D)          (None, 128, 128, 64)      2048      \n",
      "                                                                 \n",
      " conv_pw_1_bn (BatchNormali  (None, 128, 128, 64)      256       \n",
      " zation)                                                         \n",
      "                                                                 \n",
      " conv_pw_1_relu (ReLU)       (None, 128, 128, 64)      0         \n",
      "                                                                 \n",
      " conv_pad_2 (ZeroPadding2D)  (None, 129, 129, 64)      0         \n",
      "                                                                 \n",
      " conv_dw_2 (DepthwiseConv2D  (None, 64, 64, 64)        576       \n",
      " )                                                               \n",
      "                                                                 \n",
      " conv_dw_2_bn (BatchNormali  (None, 64, 64, 64)        256       \n",
      " zation)                                                         \n",
      "                                                                 \n",
      " conv_dw_2_relu (ReLU)       (None, 64, 64, 64)        0         \n",
      "                                                                 \n",
      " conv_pw_2 (Conv2D)          (None, 64, 64, 128)       8192      \n",
      "                                                                 \n",
      " conv_pw_2_bn (BatchNormali  (None, 64, 64, 128)       512       \n",
      " zation)                                                         \n",
      "                                                                 \n",
      " conv_pw_2_relu (ReLU)       (None, 64, 64, 128)       0         \n",
      "                                                                 \n",
      " conv_dw_3 (DepthwiseConv2D  (None, 64, 64, 128)       1152      \n",
      " )                                                               \n",
      "                                                                 \n",
      " conv_dw_3_bn (BatchNormali  (None, 64, 64, 128)       512       \n",
      " zation)                                                         \n",
      "                                                                 \n",
      " conv_dw_3_relu (ReLU)       (None, 64, 64, 128)       0         \n",
      "                                                                 \n",
      " conv_pw_3 (Conv2D)          (None, 64, 64, 128)       16384     \n",
      "                                                                 \n",
      " conv_pw_3_bn (BatchNormali  (None, 64, 64, 128)       512       \n",
      " zation)                                                         \n",
      "                                                                 \n",
      " conv_pw_3_relu (ReLU)       (None, 64, 64, 128)       0         \n",
      "                                                                 \n",
      " conv_pad_4 (ZeroPadding2D)  (None, 65, 65, 128)       0         \n",
      "                                                                 \n",
      " conv_dw_4 (DepthwiseConv2D  (None, 32, 32, 128)       1152      \n",
      " )                                                               \n",
      "                                                                 \n",
      " conv_dw_4_bn (BatchNormali  (None, 32, 32, 128)       512       \n",
      " zation)                                                         \n",
      "                                                                 \n",
      " conv_dw_4_relu (ReLU)       (None, 32, 32, 128)       0         \n",
      "                                                                 \n",
      " conv_pw_4 (Conv2D)          (None, 32, 32, 256)       32768     \n",
      "                                                                 \n",
      " conv_pw_4_bn (BatchNormali  (None, 32, 32, 256)       1024      \n",
      " zation)                                                         \n",
      "                                                                 \n",
      " conv_pw_4_relu (ReLU)       (None, 32, 32, 256)       0         \n",
      "                                                                 \n",
      " conv_dw_5 (DepthwiseConv2D  (None, 32, 32, 256)       2304      \n",
      " )                                                               \n",
      "                                                                 \n",
      " conv_dw_5_bn (BatchNormali  (None, 32, 32, 256)       1024      \n",
      " zation)                                                         \n",
      "                                                                 \n",
      " conv_dw_5_relu (ReLU)       (None, 32, 32, 256)       0         \n",
      "                                                                 \n",
      " conv_pw_5 (Conv2D)          (None, 32, 32, 256)       65536     \n",
      "                                                                 \n",
      " conv_pw_5_bn (BatchNormali  (None, 32, 32, 256)       1024      \n",
      " zation)                                                         \n",
      "                                                                 \n",
      " conv_pw_5_relu (ReLU)       (None, 32, 32, 256)       0         \n",
      "                                                                 \n",
      " conv_pad_6 (ZeroPadding2D)  (None, 33, 33, 256)       0         \n",
      "                                                                 \n",
      " conv_dw_6 (DepthwiseConv2D  (None, 16, 16, 256)       2304      \n",
      " )                                                               \n",
      "                                                                 \n",
      " conv_dw_6_bn (BatchNormali  (None, 16, 16, 256)       1024      \n",
      " zation)                                                         \n",
      "                                                                 \n",
      " conv_dw_6_relu (ReLU)       (None, 16, 16, 256)       0         \n",
      "                                                                 \n",
      " conv_pw_6 (Conv2D)          (None, 16, 16, 512)       131072    \n",
      "                                                                 \n",
      " conv_pw_6_bn (BatchNormali  (None, 16, 16, 512)       2048      \n",
      " zation)                                                         \n",
      "                                                                 \n",
      " conv_pw_6_relu (ReLU)       (None, 16, 16, 512)       0         \n",
      "                                                                 \n",
      " conv_dw_7 (DepthwiseConv2D  (None, 16, 16, 512)       4608      \n",
      " )                                                               \n",
      "                                                                 \n",
      " conv_dw_7_bn (BatchNormali  (None, 16, 16, 512)       2048      \n",
      " zation)                                                         \n",
      "                                                                 \n",
      " conv_dw_7_relu (ReLU)       (None, 16, 16, 512)       0         \n",
      "                                                                 \n",
      " conv_pw_7 (Conv2D)          (None, 16, 16, 512)       262144    \n",
      "                                                                 \n",
      " conv_pw_7_bn (BatchNormali  (None, 16, 16, 512)       2048      \n",
      " zation)                                                         \n",
      "                                                                 \n",
      " conv_pw_7_relu (ReLU)       (None, 16, 16, 512)       0         \n",
      "                                                                 \n",
      " conv_dw_8 (DepthwiseConv2D  (None, 16, 16, 512)       4608      \n"
     ]
    },
    {
     "name": "stdout",
     "output_type": "stream",
     "text": [
      " )                                                               \n",
      "                                                                 \n",
      " conv_dw_8_bn (BatchNormali  (None, 16, 16, 512)       2048      \n",
      " zation)                                                         \n",
      "                                                                 \n",
      " conv_dw_8_relu (ReLU)       (None, 16, 16, 512)       0         \n",
      "                                                                 \n",
      " conv_pw_8 (Conv2D)          (None, 16, 16, 512)       262144    \n",
      "                                                                 \n",
      " conv_pw_8_bn (BatchNormali  (None, 16, 16, 512)       2048      \n",
      " zation)                                                         \n",
      "                                                                 \n",
      " conv_pw_8_relu (ReLU)       (None, 16, 16, 512)       0         \n",
      "                                                                 \n",
      " conv_dw_9 (DepthwiseConv2D  (None, 16, 16, 512)       4608      \n",
      " )                                                               \n",
      "                                                                 \n",
      " conv_dw_9_bn (BatchNormali  (None, 16, 16, 512)       2048      \n",
      " zation)                                                         \n",
      "                                                                 \n",
      " conv_dw_9_relu (ReLU)       (None, 16, 16, 512)       0         \n",
      "                                                                 \n",
      " conv_pw_9 (Conv2D)          (None, 16, 16, 512)       262144    \n",
      "                                                                 \n",
      " conv_pw_9_bn (BatchNormali  (None, 16, 16, 512)       2048      \n",
      " zation)                                                         \n",
      "                                                                 \n",
      " conv_pw_9_relu (ReLU)       (None, 16, 16, 512)       0         \n",
      "                                                                 \n",
      " conv_dw_10 (DepthwiseConv2  (None, 16, 16, 512)       4608      \n",
      " D)                                                              \n",
      "                                                                 \n",
      " conv_dw_10_bn (BatchNormal  (None, 16, 16, 512)       2048      \n",
      " ization)                                                        \n",
      "                                                                 \n",
      " conv_dw_10_relu (ReLU)      (None, 16, 16, 512)       0         \n",
      "                                                                 \n",
      " conv_pw_10 (Conv2D)         (None, 16, 16, 512)       262144    \n",
      "                                                                 \n",
      " conv_pw_10_bn (BatchNormal  (None, 16, 16, 512)       2048      \n",
      " ization)                                                        \n",
      "                                                                 \n",
      " conv_pw_10_relu (ReLU)      (None, 16, 16, 512)       0         \n",
      "                                                                 \n",
      " conv_dw_11 (DepthwiseConv2  (None, 16, 16, 512)       4608      \n",
      " D)                                                              \n",
      "                                                                 \n",
      " conv_dw_11_bn (BatchNormal  (None, 16, 16, 512)       2048      \n",
      " ization)                                                        \n",
      "                                                                 \n",
      " conv_dw_11_relu (ReLU)      (None, 16, 16, 512)       0         \n",
      "                                                                 \n",
      " conv_pw_11 (Conv2D)         (None, 16, 16, 512)       262144    \n",
      "                                                                 \n",
      " conv_pw_11_bn (BatchNormal  (None, 16, 16, 512)       2048      \n",
      " ization)                                                        \n",
      "                                                                 \n",
      " conv_pw_11_relu (ReLU)      (None, 16, 16, 512)       0         \n",
      "                                                                 \n",
      " conv_pad_12 (ZeroPadding2D  (None, 17, 17, 512)       0         \n",
      " )                                                               \n",
      "                                                                 \n",
      " conv_dw_12 (DepthwiseConv2  (None, 8, 8, 512)         4608      \n",
      " D)                                                              \n",
      "                                                                 \n",
      " conv_dw_12_bn (BatchNormal  (None, 8, 8, 512)         2048      \n",
      " ization)                                                        \n",
      "                                                                 \n",
      " conv_dw_12_relu (ReLU)      (None, 8, 8, 512)         0         \n",
      "                                                                 \n",
      " conv_pw_12 (Conv2D)         (None, 8, 8, 1024)        524288    \n",
      "                                                                 \n",
      " conv_pw_12_bn (BatchNormal  (None, 8, 8, 1024)        4096      \n",
      " ization)                                                        \n",
      "                                                                 \n",
      " conv_pw_12_relu (ReLU)      (None, 8, 8, 1024)        0         \n",
      "                                                                 \n",
      " conv_dw_13 (DepthwiseConv2  (None, 8, 8, 1024)        9216      \n",
      " D)                                                              \n",
      "                                                                 \n",
      " conv_dw_13_bn (BatchNormal  (None, 8, 8, 1024)        4096      \n",
      " ization)                                                        \n",
      "                                                                 \n",
      " conv_dw_13_relu (ReLU)      (None, 8, 8, 1024)        0         \n",
      "                                                                 \n",
      " conv_pw_13 (Conv2D)         (None, 8, 8, 1024)        1048576   \n",
      "                                                                 \n",
      " conv_pw_13_bn (BatchNormal  (None, 8, 8, 1024)        4096      \n",
      " ization)                                                        \n",
      "                                                                 \n",
      " conv_pw_13_relu (ReLU)      (None, 8, 8, 1024)        0         \n",
      "                                                                 \n",
      "=================================================================\n",
      "Total params: 3228864 (12.32 MB)\n",
      "Trainable params: 3206976 (12.23 MB)\n",
      "Non-trainable params: 21888 (85.50 KB)\n",
      "_________________________________________________________________\n"
     ]
    }
   ],
   "source": [
    "conv_base.summary()"
   ]
  },
  {
   "cell_type": "code",
   "execution_count": 123,
   "id": "c5626734",
   "metadata": {},
   "outputs": [],
   "source": [
    "conv_base.trainable=False"
   ]
  },
  {
   "cell_type": "code",
   "execution_count": 124,
   "id": "54fa7aa4",
   "metadata": {},
   "outputs": [
    {
     "name": "stdout",
     "output_type": "stream",
     "text": [
      "Model: \"mobilenet_1.00_224\"\n",
      "_________________________________________________________________\n",
      " Layer (type)                Output Shape              Param #   \n",
      "=================================================================\n",
      " input_8 (InputLayer)        [(None, 256, 256, 3)]     0         \n",
      "                                                                 \n",
      " conv1 (Conv2D)              (None, 128, 128, 32)      864       \n",
      "                                                                 \n",
      " conv1_bn (BatchNormalizati  (None, 128, 128, 32)      128       \n",
      " on)                                                             \n",
      "                                                                 \n",
      " conv1_relu (ReLU)           (None, 128, 128, 32)      0         \n",
      "                                                                 \n",
      " conv_dw_1 (DepthwiseConv2D  (None, 128, 128, 32)      288       \n",
      " )                                                               \n",
      "                                                                 \n",
      " conv_dw_1_bn (BatchNormali  (None, 128, 128, 32)      128       \n",
      " zation)                                                         \n",
      "                                                                 \n",
      " conv_dw_1_relu (ReLU)       (None, 128, 128, 32)      0         \n",
      "                                                                 \n",
      " conv_pw_1 (Conv2D)          (None, 128, 128, 64)      2048      \n",
      "                                                                 \n",
      " conv_pw_1_bn (BatchNormali  (None, 128, 128, 64)      256       \n",
      " zation)                                                         \n",
      "                                                                 \n",
      " conv_pw_1_relu (ReLU)       (None, 128, 128, 64)      0         \n",
      "                                                                 \n",
      " conv_pad_2 (ZeroPadding2D)  (None, 129, 129, 64)      0         \n",
      "                                                                 \n",
      " conv_dw_2 (DepthwiseConv2D  (None, 64, 64, 64)        576       \n",
      " )                                                               \n",
      "                                                                 \n",
      " conv_dw_2_bn (BatchNormali  (None, 64, 64, 64)        256       \n",
      " zation)                                                         \n",
      "                                                                 \n",
      " conv_dw_2_relu (ReLU)       (None, 64, 64, 64)        0         \n",
      "                                                                 \n",
      " conv_pw_2 (Conv2D)          (None, 64, 64, 128)       8192      \n",
      "                                                                 \n",
      " conv_pw_2_bn (BatchNormali  (None, 64, 64, 128)       512       \n",
      " zation)                                                         \n",
      "                                                                 \n",
      " conv_pw_2_relu (ReLU)       (None, 64, 64, 128)       0         \n",
      "                                                                 \n",
      " conv_dw_3 (DepthwiseConv2D  (None, 64, 64, 128)       1152      \n",
      " )                                                               \n",
      "                                                                 \n",
      " conv_dw_3_bn (BatchNormali  (None, 64, 64, 128)       512       \n",
      " zation)                                                         \n",
      "                                                                 \n",
      " conv_dw_3_relu (ReLU)       (None, 64, 64, 128)       0         \n",
      "                                                                 \n",
      " conv_pw_3 (Conv2D)          (None, 64, 64, 128)       16384     \n",
      "                                                                 \n",
      " conv_pw_3_bn (BatchNormali  (None, 64, 64, 128)       512       \n",
      " zation)                                                         \n",
      "                                                                 \n",
      " conv_pw_3_relu (ReLU)       (None, 64, 64, 128)       0         \n",
      "                                                                 \n",
      " conv_pad_4 (ZeroPadding2D)  (None, 65, 65, 128)       0         \n",
      "                                                                 \n",
      " conv_dw_4 (DepthwiseConv2D  (None, 32, 32, 128)       1152      \n",
      " )                                                               \n",
      "                                                                 \n",
      " conv_dw_4_bn (BatchNormali  (None, 32, 32, 128)       512       \n",
      " zation)                                                         \n",
      "                                                                 \n",
      " conv_dw_4_relu (ReLU)       (None, 32, 32, 128)       0         \n",
      "                                                                 \n",
      " conv_pw_4 (Conv2D)          (None, 32, 32, 256)       32768     \n",
      "                                                                 \n",
      " conv_pw_4_bn (BatchNormali  (None, 32, 32, 256)       1024      \n",
      " zation)                                                         \n",
      "                                                                 \n",
      " conv_pw_4_relu (ReLU)       (None, 32, 32, 256)       0         \n",
      "                                                                 \n",
      " conv_dw_5 (DepthwiseConv2D  (None, 32, 32, 256)       2304      \n",
      " )                                                               \n",
      "                                                                 \n",
      " conv_dw_5_bn (BatchNormali  (None, 32, 32, 256)       1024      \n",
      " zation)                                                         \n",
      "                                                                 \n",
      " conv_dw_5_relu (ReLU)       (None, 32, 32, 256)       0         \n",
      "                                                                 \n",
      " conv_pw_5 (Conv2D)          (None, 32, 32, 256)       65536     \n",
      "                                                                 \n",
      " conv_pw_5_bn (BatchNormali  (None, 32, 32, 256)       1024      \n",
      " zation)                                                         \n",
      "                                                                 \n",
      " conv_pw_5_relu (ReLU)       (None, 32, 32, 256)       0         \n",
      "                                                                 \n",
      " conv_pad_6 (ZeroPadding2D)  (None, 33, 33, 256)       0         \n",
      "                                                                 \n",
      " conv_dw_6 (DepthwiseConv2D  (None, 16, 16, 256)       2304      \n",
      " )                                                               \n",
      "                                                                 \n",
      " conv_dw_6_bn (BatchNormali  (None, 16, 16, 256)       1024      \n",
      " zation)                                                         \n",
      "                                                                 \n",
      " conv_dw_6_relu (ReLU)       (None, 16, 16, 256)       0         \n",
      "                                                                 \n",
      " conv_pw_6 (Conv2D)          (None, 16, 16, 512)       131072    \n",
      "                                                                 \n",
      " conv_pw_6_bn (BatchNormali  (None, 16, 16, 512)       2048      \n",
      " zation)                                                         \n",
      "                                                                 \n",
      " conv_pw_6_relu (ReLU)       (None, 16, 16, 512)       0         \n",
      "                                                                 \n",
      " conv_dw_7 (DepthwiseConv2D  (None, 16, 16, 512)       4608      \n",
      " )                                                               \n",
      "                                                                 \n",
      " conv_dw_7_bn (BatchNormali  (None, 16, 16, 512)       2048      \n",
      " zation)                                                         \n",
      "                                                                 \n",
      " conv_dw_7_relu (ReLU)       (None, 16, 16, 512)       0         \n",
      "                                                                 \n",
      " conv_pw_7 (Conv2D)          (None, 16, 16, 512)       262144    \n",
      "                                                                 \n",
      " conv_pw_7_bn (BatchNormali  (None, 16, 16, 512)       2048      \n",
      " zation)                                                         \n",
      "                                                                 \n",
      " conv_pw_7_relu (ReLU)       (None, 16, 16, 512)       0         \n",
      "                                                                 \n",
      " conv_dw_8 (DepthwiseConv2D  (None, 16, 16, 512)       4608      \n"
     ]
    },
    {
     "name": "stdout",
     "output_type": "stream",
     "text": [
      " )                                                               \n",
      "                                                                 \n",
      " conv_dw_8_bn (BatchNormali  (None, 16, 16, 512)       2048      \n",
      " zation)                                                         \n",
      "                                                                 \n",
      " conv_dw_8_relu (ReLU)       (None, 16, 16, 512)       0         \n",
      "                                                                 \n",
      " conv_pw_8 (Conv2D)          (None, 16, 16, 512)       262144    \n",
      "                                                                 \n",
      " conv_pw_8_bn (BatchNormali  (None, 16, 16, 512)       2048      \n",
      " zation)                                                         \n",
      "                                                                 \n",
      " conv_pw_8_relu (ReLU)       (None, 16, 16, 512)       0         \n",
      "                                                                 \n",
      " conv_dw_9 (DepthwiseConv2D  (None, 16, 16, 512)       4608      \n",
      " )                                                               \n",
      "                                                                 \n",
      " conv_dw_9_bn (BatchNormali  (None, 16, 16, 512)       2048      \n",
      " zation)                                                         \n",
      "                                                                 \n",
      " conv_dw_9_relu (ReLU)       (None, 16, 16, 512)       0         \n",
      "                                                                 \n",
      " conv_pw_9 (Conv2D)          (None, 16, 16, 512)       262144    \n",
      "                                                                 \n",
      " conv_pw_9_bn (BatchNormali  (None, 16, 16, 512)       2048      \n",
      " zation)                                                         \n",
      "                                                                 \n",
      " conv_pw_9_relu (ReLU)       (None, 16, 16, 512)       0         \n",
      "                                                                 \n",
      " conv_dw_10 (DepthwiseConv2  (None, 16, 16, 512)       4608      \n",
      " D)                                                              \n",
      "                                                                 \n",
      " conv_dw_10_bn (BatchNormal  (None, 16, 16, 512)       2048      \n",
      " ization)                                                        \n",
      "                                                                 \n",
      " conv_dw_10_relu (ReLU)      (None, 16, 16, 512)       0         \n",
      "                                                                 \n",
      " conv_pw_10 (Conv2D)         (None, 16, 16, 512)       262144    \n",
      "                                                                 \n",
      " conv_pw_10_bn (BatchNormal  (None, 16, 16, 512)       2048      \n",
      " ization)                                                        \n",
      "                                                                 \n",
      " conv_pw_10_relu (ReLU)      (None, 16, 16, 512)       0         \n",
      "                                                                 \n",
      " conv_dw_11 (DepthwiseConv2  (None, 16, 16, 512)       4608      \n",
      " D)                                                              \n",
      "                                                                 \n",
      " conv_dw_11_bn (BatchNormal  (None, 16, 16, 512)       2048      \n",
      " ization)                                                        \n",
      "                                                                 \n",
      " conv_dw_11_relu (ReLU)      (None, 16, 16, 512)       0         \n",
      "                                                                 \n",
      " conv_pw_11 (Conv2D)         (None, 16, 16, 512)       262144    \n",
      "                                                                 \n",
      " conv_pw_11_bn (BatchNormal  (None, 16, 16, 512)       2048      \n",
      " ization)                                                        \n",
      "                                                                 \n",
      " conv_pw_11_relu (ReLU)      (None, 16, 16, 512)       0         \n",
      "                                                                 \n",
      " conv_pad_12 (ZeroPadding2D  (None, 17, 17, 512)       0         \n",
      " )                                                               \n",
      "                                                                 \n",
      " conv_dw_12 (DepthwiseConv2  (None, 8, 8, 512)         4608      \n",
      " D)                                                              \n",
      "                                                                 \n",
      " conv_dw_12_bn (BatchNormal  (None, 8, 8, 512)         2048      \n",
      " ization)                                                        \n",
      "                                                                 \n",
      " conv_dw_12_relu (ReLU)      (None, 8, 8, 512)         0         \n",
      "                                                                 \n",
      " conv_pw_12 (Conv2D)         (None, 8, 8, 1024)        524288    \n",
      "                                                                 \n",
      " conv_pw_12_bn (BatchNormal  (None, 8, 8, 1024)        4096      \n",
      " ization)                                                        \n",
      "                                                                 \n",
      " conv_pw_12_relu (ReLU)      (None, 8, 8, 1024)        0         \n",
      "                                                                 \n",
      " conv_dw_13 (DepthwiseConv2  (None, 8, 8, 1024)        9216      \n",
      " D)                                                              \n",
      "                                                                 \n",
      " conv_dw_13_bn (BatchNormal  (None, 8, 8, 1024)        4096      \n",
      " ization)                                                        \n",
      "                                                                 \n",
      " conv_dw_13_relu (ReLU)      (None, 8, 8, 1024)        0         \n",
      "                                                                 \n",
      " conv_pw_13 (Conv2D)         (None, 8, 8, 1024)        1048576   \n",
      "                                                                 \n",
      " conv_pw_13_bn (BatchNormal  (None, 8, 8, 1024)        4096      \n",
      " ization)                                                        \n",
      "                                                                 \n",
      " conv_pw_13_relu (ReLU)      (None, 8, 8, 1024)        0         \n",
      "                                                                 \n",
      "=================================================================\n",
      "Total params: 3228864 (12.32 MB)\n",
      "Trainable params: 0 (0.00 Byte)\n",
      "Non-trainable params: 3228864 (12.32 MB)\n",
      "_________________________________________________________________\n"
     ]
    }
   ],
   "source": [
    "conv_base.summary()"
   ]
  },
  {
   "cell_type": "code",
   "execution_count": 125,
   "id": "39db9601",
   "metadata": {},
   "outputs": [],
   "source": [
    "model1=Sequential()\n",
    "model1.add(conv_base)\n",
    "model1.add(Flatten())\n",
    "model1.add(Dense(64,activation=\"relu\"))\n",
    "model1.add(Dropout(0.2))\n",
    "model1.add(Dense(1,activation=\"sigmoid\"))"
   ]
  },
  {
   "cell_type": "code",
   "execution_count": 126,
   "id": "2b621de2",
   "metadata": {},
   "outputs": [
    {
     "name": "stdout",
     "output_type": "stream",
     "text": [
      "Model: \"sequential_8\"\n",
      "_________________________________________________________________\n",
      " Layer (type)                Output Shape              Param #   \n",
      "=================================================================\n",
      " mobilenet_1.00_224 (Functi  (None, 8, 8, 1024)        3228864   \n",
      " onal)                                                           \n",
      "                                                                 \n",
      " flatten_7 (Flatten)         (None, 65536)             0         \n",
      "                                                                 \n",
      " dense_13 (Dense)            (None, 64)                4194368   \n",
      "                                                                 \n",
      " dropout_7 (Dropout)         (None, 64)                0         \n",
      "                                                                 \n",
      " dense_14 (Dense)            (None, 1)                 65        \n",
      "                                                                 \n",
      "=================================================================\n",
      "Total params: 7423297 (28.32 MB)\n",
      "Trainable params: 4194433 (16.00 MB)\n",
      "Non-trainable params: 3228864 (12.32 MB)\n",
      "_________________________________________________________________\n"
     ]
    }
   ],
   "source": [
    "model1.summary()"
   ]
  },
  {
   "cell_type": "code",
   "execution_count": 127,
   "id": "8d8527ac",
   "metadata": {},
   "outputs": [],
   "source": [
    "model1.compile(optimizer=\"Adam\",loss=\"binary_crossentropy\",metrics=[\"accuracy\"])"
   ]
  },
  {
   "cell_type": "code",
   "execution_count": 128,
   "id": "0cf3a4f4",
   "metadata": {},
   "outputs": [
    {
     "name": "stdout",
     "output_type": "stream",
     "text": [
      "Epoch 1/5\n",
      "80/80 [==============================] - 113s 1s/step - loss: 1.8056 - accuracy: 0.7180 - val_loss: 0.3828 - val_accuracy: 0.8410\n",
      "Epoch 2/5\n",
      "80/80 [==============================] - 113s 1s/step - loss: 0.4187 - accuracy: 0.8121 - val_loss: 0.3410 - val_accuracy: 0.8574\n",
      "Epoch 3/5\n",
      "80/80 [==============================] - 112s 1s/step - loss: 0.3628 - accuracy: 0.8281 - val_loss: 0.3303 - val_accuracy: 0.8507\n",
      "Epoch 4/5\n",
      "80/80 [==============================] - 123s 2s/step - loss: 0.3582 - accuracy: 0.8263 - val_loss: 0.2960 - val_accuracy: 0.8669\n",
      "Epoch 5/5\n",
      "80/80 [==============================] - 119s 1s/step - loss: 0.3249 - accuracy: 0.8531 - val_loss: 0.2955 - val_accuracy: 0.8667\n"
     ]
    },
    {
     "data": {
      "text/plain": [
       "<keras.src.callbacks.History at 0x1f31d8a6810>"
      ]
     },
     "execution_count": 128,
     "metadata": {},
     "output_type": "execute_result"
    }
   ],
   "source": [
    "model1.fit_generator(train_img,epochs=5,validation_data=test_img,steps_per_epoch=80)"
   ]
  },
  {
   "cell_type": "code",
   "execution_count": 129,
   "id": "c1ec14c4",
   "metadata": {},
   "outputs": [
    {
     "name": "stdout",
     "output_type": "stream",
     "text": [
      "Epoch 7/10\n",
      "80/80 [==============================] - 126s 2s/step - loss: 0.3377 - accuracy: 0.8414 - val_loss: 0.2940 - val_accuracy: 0.8621\n",
      "Epoch 8/10\n",
      "80/80 [==============================] - 128s 2s/step - loss: 0.3335 - accuracy: 0.8574 - val_loss: 0.3154 - val_accuracy: 0.8617\n",
      "Epoch 9/10\n",
      "80/80 [==============================] - 125s 2s/step - loss: 0.3406 - accuracy: 0.8457 - val_loss: 0.3116 - val_accuracy: 0.8602\n",
      "Epoch 10/10\n",
      "80/80 [==============================] - 127s 2s/step - loss: 0.3218 - accuracy: 0.8617 - val_loss: 0.2749 - val_accuracy: 0.8792\n"
     ]
    },
    {
     "data": {
      "text/plain": [
       "<keras.src.callbacks.History at 0x1f31dc5d310>"
      ]
     },
     "execution_count": 129,
     "metadata": {},
     "output_type": "execute_result"
    }
   ],
   "source": [
    "model1.fit_generator(train_img,epochs=10,validation_data=test_img,steps_per_epoch=80,initial_epoch=6)"
   ]
  },
  {
   "cell_type": "markdown",
   "id": "accdeecb",
   "metadata": {},
   "source": [
    "#### we got good accuracy for classifying gender in by using mobilenet architecture"
   ]
  },
  {
   "cell_type": "markdown",
   "id": "6d1caaea",
   "metadata": {},
   "source": [
    "## **Now we will try VGG16 architecture**"
   ]
  },
  {
   "cell_type": "code",
   "execution_count": 19,
   "id": "092da244",
   "metadata": {},
   "outputs": [],
   "source": [
    "vgg_conv=VGG16(input_shape=(256,256,3),include_top=False)\n",
    "vgg_conv.trainable=False"
   ]
  },
  {
   "cell_type": "code",
   "execution_count": 20,
   "id": "4d124005",
   "metadata": {},
   "outputs": [
    {
     "name": "stdout",
     "output_type": "stream",
     "text": [
      "Model: \"vgg16\"\n",
      "_________________________________________________________________\n",
      " Layer (type)                Output Shape              Param #   \n",
      "=================================================================\n",
      " input_2 (InputLayer)        [(None, 256, 256, 3)]     0         \n",
      "                                                                 \n",
      " block1_conv1 (Conv2D)       (None, 256, 256, 64)      1792      \n",
      "                                                                 \n",
      " block1_conv2 (Conv2D)       (None, 256, 256, 64)      36928     \n",
      "                                                                 \n",
      " block1_pool (MaxPooling2D)  (None, 128, 128, 64)      0         \n",
      "                                                                 \n",
      " block2_conv1 (Conv2D)       (None, 128, 128, 128)     73856     \n",
      "                                                                 \n",
      " block2_conv2 (Conv2D)       (None, 128, 128, 128)     147584    \n",
      "                                                                 \n",
      " block2_pool (MaxPooling2D)  (None, 64, 64, 128)       0         \n",
      "                                                                 \n",
      " block3_conv1 (Conv2D)       (None, 64, 64, 256)       295168    \n",
      "                                                                 \n",
      " block3_conv2 (Conv2D)       (None, 64, 64, 256)       590080    \n",
      "                                                                 \n",
      " block3_conv3 (Conv2D)       (None, 64, 64, 256)       590080    \n",
      "                                                                 \n",
      " block3_pool (MaxPooling2D)  (None, 32, 32, 256)       0         \n",
      "                                                                 \n",
      " block4_conv1 (Conv2D)       (None, 32, 32, 512)       1180160   \n",
      "                                                                 \n",
      " block4_conv2 (Conv2D)       (None, 32, 32, 512)       2359808   \n",
      "                                                                 \n",
      " block4_conv3 (Conv2D)       (None, 32, 32, 512)       2359808   \n",
      "                                                                 \n",
      " block4_pool (MaxPooling2D)  (None, 16, 16, 512)       0         \n",
      "                                                                 \n",
      " block5_conv1 (Conv2D)       (None, 16, 16, 512)       2359808   \n",
      "                                                                 \n",
      " block5_conv2 (Conv2D)       (None, 16, 16, 512)       2359808   \n",
      "                                                                 \n",
      " block5_conv3 (Conv2D)       (None, 16, 16, 512)       2359808   \n",
      "                                                                 \n",
      " block5_pool (MaxPooling2D)  (None, 8, 8, 512)         0         \n",
      "                                                                 \n",
      "=================================================================\n",
      "Total params: 14714688 (56.13 MB)\n",
      "Trainable params: 0 (0.00 Byte)\n",
      "Non-trainable params: 14714688 (56.13 MB)\n",
      "_________________________________________________________________\n"
     ]
    }
   ],
   "source": [
    "vgg_conv.summary()"
   ]
  },
  {
   "cell_type": "code",
   "execution_count": 22,
   "id": "b55a8122",
   "metadata": {},
   "outputs": [],
   "source": [
    "model2=Sequential()\n",
    "model2.add(vgg_conv)\n",
    "model2.add(Flatten())\n",
    "model2.add(Dense(128,activation=\"relu\"))\n",
    "model2.add(Dropout(0.3))\n",
    "model2.add(Dense(64,activation=\"relu\"))\n",
    "model2.add(Dropout(0.3))\n",
    "model2.add(Dense(1,activation=\"sigmoid\"))\n"
   ]
  },
  {
   "cell_type": "code",
   "execution_count": 23,
   "id": "6c7b5992",
   "metadata": {},
   "outputs": [
    {
     "name": "stdout",
     "output_type": "stream",
     "text": [
      "WARNING:tensorflow:From C:\\Users\\RAHUL KUMAR\\AppData\\Roaming\\Python\\Python311\\site-packages\\keras\\src\\optimizers\\__init__.py:309: The name tf.train.Optimizer is deprecated. Please use tf.compat.v1.train.Optimizer instead.\n",
      "\n"
     ]
    }
   ],
   "source": [
    "model2.compile(optimizer=\"Adam\",loss=\"binary_crossentropy\",metrics=[\"accuracy\"])"
   ]
  },
  {
   "cell_type": "code",
   "execution_count": 24,
   "id": "9052871f",
   "metadata": {},
   "outputs": [
    {
     "name": "stdout",
     "output_type": "stream",
     "text": [
      "Epoch 1/5\n",
      "WARNING:tensorflow:From C:\\Users\\RAHUL KUMAR\\AppData\\Roaming\\Python\\Python311\\site-packages\\keras\\src\\utils\\tf_utils.py:492: The name tf.ragged.RaggedTensorValue is deprecated. Please use tf.compat.v1.ragged.RaggedTensorValue instead.\n",
      "\n",
      "WARNING:tensorflow:From C:\\Users\\RAHUL KUMAR\\AppData\\Roaming\\Python\\Python311\\site-packages\\keras\\src\\engine\\base_layer_utils.py:384: The name tf.executing_eagerly_outside_functions is deprecated. Please use tf.compat.v1.executing_eagerly_outside_functions instead.\n",
      "\n",
      "80/80 [==============================] - 1144s 14s/step - loss: 0.8488 - accuracy: 0.5516 - val_loss: 0.6460 - val_accuracy: 0.6449\n",
      "Epoch 2/5\n",
      "80/80 [==============================] - 1187s 15s/step - loss: 0.6357 - accuracy: 0.6414 - val_loss: 0.6438 - val_accuracy: 0.7394\n",
      "Epoch 3/5\n",
      "80/80 [==============================] - 1128s 14s/step - loss: 0.6104 - accuracy: 0.7071 - val_loss: 0.5490 - val_accuracy: 0.8191\n",
      "Epoch 4/5\n",
      "80/80 [==============================] - 1129s 14s/step - loss: 0.5784 - accuracy: 0.7408 - val_loss: 0.5151 - val_accuracy: 0.8319\n",
      "Epoch 5/5\n",
      "80/80 [==============================] - 1469s 19s/step - loss: 0.5675 - accuracy: 0.7212 - val_loss: 0.4912 - val_accuracy: 0.8427\n"
     ]
    },
    {
     "data": {
      "text/plain": [
       "<keras.src.callbacks.History at 0x23f90d08b10>"
      ]
     },
     "execution_count": 24,
     "metadata": {},
     "output_type": "execute_result"
    }
   ],
   "source": [
    "model2.fit_generator(train_img,epochs=5,validation_data=test_img,steps_per_epoch=80)"
   ]
  },
  {
   "cell_type": "markdown",
   "id": "f4c3fc78",
   "metadata": {},
   "source": [
    "#### we got accuracy of 84% within 5 epochs with VGG16 but model training is bit slow in comparison to MobileNet"
   ]
  },
  {
   "cell_type": "markdown",
   "id": "17886f72",
   "metadata": {},
   "source": [
    "# Now we will try general model in which we will predict age and gender both with one model only using functional API"
   ]
  },
  {
   "cell_type": "code",
   "execution_count": 158,
   "id": "0d36e8f2",
   "metadata": {},
   "outputs": [
    {
     "name": "stdout",
     "output_type": "stream",
     "text": [
      "WARNING:tensorflow:`input_shape` is undefined or non-square, or `rows` is not in [128, 160, 192, 224]. Weights for input shape (224, 224) will be loaded as the default.\n"
     ]
    }
   ],
   "source": [
    "conv_base=keras.applications.MobileNet(include_top=False,input_shape=(256,256,3))"
   ]
  },
  {
   "cell_type": "code",
   "execution_count": 159,
   "id": "a2c8f9da",
   "metadata": {},
   "outputs": [],
   "source": [
    "conv_base.trainable=False"
   ]
  },
  {
   "cell_type": "code",
   "execution_count": 160,
   "id": "0f917b14",
   "metadata": {},
   "outputs": [
    {
     "name": "stdout",
     "output_type": "stream",
     "text": [
      "Model: \"mobilenet_1.00_224\"\n",
      "_________________________________________________________________\n",
      " Layer (type)                Output Shape              Param #   \n",
      "=================================================================\n",
      " input_9 (InputLayer)        [(None, 256, 256, 3)]     0         \n",
      "                                                                 \n",
      " conv1 (Conv2D)              (None, 128, 128, 32)      864       \n",
      "                                                                 \n",
      " conv1_bn (BatchNormalizati  (None, 128, 128, 32)      128       \n",
      " on)                                                             \n",
      "                                                                 \n",
      " conv1_relu (ReLU)           (None, 128, 128, 32)      0         \n",
      "                                                                 \n",
      " conv_dw_1 (DepthwiseConv2D  (None, 128, 128, 32)      288       \n",
      " )                                                               \n",
      "                                                                 \n",
      " conv_dw_1_bn (BatchNormali  (None, 128, 128, 32)      128       \n",
      " zation)                                                         \n",
      "                                                                 \n",
      " conv_dw_1_relu (ReLU)       (None, 128, 128, 32)      0         \n",
      "                                                                 \n",
      " conv_pw_1 (Conv2D)          (None, 128, 128, 64)      2048      \n",
      "                                                                 \n",
      " conv_pw_1_bn (BatchNormali  (None, 128, 128, 64)      256       \n",
      " zation)                                                         \n",
      "                                                                 \n",
      " conv_pw_1_relu (ReLU)       (None, 128, 128, 64)      0         \n",
      "                                                                 \n",
      " conv_pad_2 (ZeroPadding2D)  (None, 129, 129, 64)      0         \n",
      "                                                                 \n",
      " conv_dw_2 (DepthwiseConv2D  (None, 64, 64, 64)        576       \n",
      " )                                                               \n",
      "                                                                 \n",
      " conv_dw_2_bn (BatchNormali  (None, 64, 64, 64)        256       \n",
      " zation)                                                         \n",
      "                                                                 \n",
      " conv_dw_2_relu (ReLU)       (None, 64, 64, 64)        0         \n",
      "                                                                 \n",
      " conv_pw_2 (Conv2D)          (None, 64, 64, 128)       8192      \n",
      "                                                                 \n",
      " conv_pw_2_bn (BatchNormali  (None, 64, 64, 128)       512       \n",
      " zation)                                                         \n",
      "                                                                 \n",
      " conv_pw_2_relu (ReLU)       (None, 64, 64, 128)       0         \n",
      "                                                                 \n",
      " conv_dw_3 (DepthwiseConv2D  (None, 64, 64, 128)       1152      \n",
      " )                                                               \n",
      "                                                                 \n",
      " conv_dw_3_bn (BatchNormali  (None, 64, 64, 128)       512       \n",
      " zation)                                                         \n",
      "                                                                 \n",
      " conv_dw_3_relu (ReLU)       (None, 64, 64, 128)       0         \n",
      "                                                                 \n",
      " conv_pw_3 (Conv2D)          (None, 64, 64, 128)       16384     \n",
      "                                                                 \n",
      " conv_pw_3_bn (BatchNormali  (None, 64, 64, 128)       512       \n",
      " zation)                                                         \n",
      "                                                                 \n",
      " conv_pw_3_relu (ReLU)       (None, 64, 64, 128)       0         \n",
      "                                                                 \n",
      " conv_pad_4 (ZeroPadding2D)  (None, 65, 65, 128)       0         \n",
      "                                                                 \n",
      " conv_dw_4 (DepthwiseConv2D  (None, 32, 32, 128)       1152      \n",
      " )                                                               \n",
      "                                                                 \n",
      " conv_dw_4_bn (BatchNormali  (None, 32, 32, 128)       512       \n",
      " zation)                                                         \n",
      "                                                                 \n",
      " conv_dw_4_relu (ReLU)       (None, 32, 32, 128)       0         \n",
      "                                                                 \n",
      " conv_pw_4 (Conv2D)          (None, 32, 32, 256)       32768     \n",
      "                                                                 \n",
      " conv_pw_4_bn (BatchNormali  (None, 32, 32, 256)       1024      \n",
      " zation)                                                         \n",
      "                                                                 \n",
      " conv_pw_4_relu (ReLU)       (None, 32, 32, 256)       0         \n",
      "                                                                 \n",
      " conv_dw_5 (DepthwiseConv2D  (None, 32, 32, 256)       2304      \n",
      " )                                                               \n",
      "                                                                 \n",
      " conv_dw_5_bn (BatchNormali  (None, 32, 32, 256)       1024      \n",
      " zation)                                                         \n",
      "                                                                 \n",
      " conv_dw_5_relu (ReLU)       (None, 32, 32, 256)       0         \n",
      "                                                                 \n",
      " conv_pw_5 (Conv2D)          (None, 32, 32, 256)       65536     \n",
      "                                                                 \n",
      " conv_pw_5_bn (BatchNormali  (None, 32, 32, 256)       1024      \n",
      " zation)                                                         \n",
      "                                                                 \n",
      " conv_pw_5_relu (ReLU)       (None, 32, 32, 256)       0         \n",
      "                                                                 \n",
      " conv_pad_6 (ZeroPadding2D)  (None, 33, 33, 256)       0         \n",
      "                                                                 \n",
      " conv_dw_6 (DepthwiseConv2D  (None, 16, 16, 256)       2304      \n",
      " )                                                               \n",
      "                                                                 \n",
      " conv_dw_6_bn (BatchNormali  (None, 16, 16, 256)       1024      \n",
      " zation)                                                         \n",
      "                                                                 \n",
      " conv_dw_6_relu (ReLU)       (None, 16, 16, 256)       0         \n",
      "                                                                 \n",
      " conv_pw_6 (Conv2D)          (None, 16, 16, 512)       131072    \n",
      "                                                                 \n",
      " conv_pw_6_bn (BatchNormali  (None, 16, 16, 512)       2048      \n",
      " zation)                                                         \n",
      "                                                                 \n",
      " conv_pw_6_relu (ReLU)       (None, 16, 16, 512)       0         \n",
      "                                                                 \n",
      " conv_dw_7 (DepthwiseConv2D  (None, 16, 16, 512)       4608      \n",
      " )                                                               \n",
      "                                                                 \n",
      " conv_dw_7_bn (BatchNormali  (None, 16, 16, 512)       2048      \n",
      " zation)                                                         \n",
      "                                                                 \n",
      " conv_dw_7_relu (ReLU)       (None, 16, 16, 512)       0         \n",
      "                                                                 \n",
      " conv_pw_7 (Conv2D)          (None, 16, 16, 512)       262144    \n",
      "                                                                 \n",
      " conv_pw_7_bn (BatchNormali  (None, 16, 16, 512)       2048      \n",
      " zation)                                                         \n",
      "                                                                 \n",
      " conv_pw_7_relu (ReLU)       (None, 16, 16, 512)       0         \n",
      "                                                                 \n",
      " conv_dw_8 (DepthwiseConv2D  (None, 16, 16, 512)       4608      \n"
     ]
    },
    {
     "name": "stdout",
     "output_type": "stream",
     "text": [
      " )                                                               \n",
      "                                                                 \n",
      " conv_dw_8_bn (BatchNormali  (None, 16, 16, 512)       2048      \n",
      " zation)                                                         \n",
      "                                                                 \n",
      " conv_dw_8_relu (ReLU)       (None, 16, 16, 512)       0         \n",
      "                                                                 \n",
      " conv_pw_8 (Conv2D)          (None, 16, 16, 512)       262144    \n",
      "                                                                 \n",
      " conv_pw_8_bn (BatchNormali  (None, 16, 16, 512)       2048      \n",
      " zation)                                                         \n",
      "                                                                 \n",
      " conv_pw_8_relu (ReLU)       (None, 16, 16, 512)       0         \n",
      "                                                                 \n",
      " conv_dw_9 (DepthwiseConv2D  (None, 16, 16, 512)       4608      \n",
      " )                                                               \n",
      "                                                                 \n",
      " conv_dw_9_bn (BatchNormali  (None, 16, 16, 512)       2048      \n",
      " zation)                                                         \n",
      "                                                                 \n",
      " conv_dw_9_relu (ReLU)       (None, 16, 16, 512)       0         \n",
      "                                                                 \n",
      " conv_pw_9 (Conv2D)          (None, 16, 16, 512)       262144    \n",
      "                                                                 \n",
      " conv_pw_9_bn (BatchNormali  (None, 16, 16, 512)       2048      \n",
      " zation)                                                         \n",
      "                                                                 \n",
      " conv_pw_9_relu (ReLU)       (None, 16, 16, 512)       0         \n",
      "                                                                 \n",
      " conv_dw_10 (DepthwiseConv2  (None, 16, 16, 512)       4608      \n",
      " D)                                                              \n",
      "                                                                 \n",
      " conv_dw_10_bn (BatchNormal  (None, 16, 16, 512)       2048      \n",
      " ization)                                                        \n",
      "                                                                 \n",
      " conv_dw_10_relu (ReLU)      (None, 16, 16, 512)       0         \n",
      "                                                                 \n",
      " conv_pw_10 (Conv2D)         (None, 16, 16, 512)       262144    \n",
      "                                                                 \n",
      " conv_pw_10_bn (BatchNormal  (None, 16, 16, 512)       2048      \n",
      " ization)                                                        \n",
      "                                                                 \n",
      " conv_pw_10_relu (ReLU)      (None, 16, 16, 512)       0         \n",
      "                                                                 \n",
      " conv_dw_11 (DepthwiseConv2  (None, 16, 16, 512)       4608      \n",
      " D)                                                              \n",
      "                                                                 \n",
      " conv_dw_11_bn (BatchNormal  (None, 16, 16, 512)       2048      \n",
      " ization)                                                        \n",
      "                                                                 \n",
      " conv_dw_11_relu (ReLU)      (None, 16, 16, 512)       0         \n",
      "                                                                 \n",
      " conv_pw_11 (Conv2D)         (None, 16, 16, 512)       262144    \n",
      "                                                                 \n",
      " conv_pw_11_bn (BatchNormal  (None, 16, 16, 512)       2048      \n",
      " ization)                                                        \n",
      "                                                                 \n",
      " conv_pw_11_relu (ReLU)      (None, 16, 16, 512)       0         \n",
      "                                                                 \n",
      " conv_pad_12 (ZeroPadding2D  (None, 17, 17, 512)       0         \n",
      " )                                                               \n",
      "                                                                 \n",
      " conv_dw_12 (DepthwiseConv2  (None, 8, 8, 512)         4608      \n",
      " D)                                                              \n",
      "                                                                 \n",
      " conv_dw_12_bn (BatchNormal  (None, 8, 8, 512)         2048      \n",
      " ization)                                                        \n",
      "                                                                 \n",
      " conv_dw_12_relu (ReLU)      (None, 8, 8, 512)         0         \n",
      "                                                                 \n",
      " conv_pw_12 (Conv2D)         (None, 8, 8, 1024)        524288    \n",
      "                                                                 \n",
      " conv_pw_12_bn (BatchNormal  (None, 8, 8, 1024)        4096      \n",
      " ization)                                                        \n",
      "                                                                 \n",
      " conv_pw_12_relu (ReLU)      (None, 8, 8, 1024)        0         \n",
      "                                                                 \n",
      " conv_dw_13 (DepthwiseConv2  (None, 8, 8, 1024)        9216      \n",
      " D)                                                              \n",
      "                                                                 \n",
      " conv_dw_13_bn (BatchNormal  (None, 8, 8, 1024)        4096      \n",
      " ization)                                                        \n",
      "                                                                 \n",
      " conv_dw_13_relu (ReLU)      (None, 8, 8, 1024)        0         \n",
      "                                                                 \n",
      " conv_pw_13 (Conv2D)         (None, 8, 8, 1024)        1048576   \n",
      "                                                                 \n",
      " conv_pw_13_bn (BatchNormal  (None, 8, 8, 1024)        4096      \n",
      " ization)                                                        \n",
      "                                                                 \n",
      " conv_pw_13_relu (ReLU)      (None, 8, 8, 1024)        0         \n",
      "                                                                 \n",
      "=================================================================\n",
      "Total params: 3228864 (12.32 MB)\n",
      "Trainable params: 0 (0.00 Byte)\n",
      "Non-trainable params: 3228864 (12.32 MB)\n",
      "_________________________________________________________________\n"
     ]
    }
   ],
   "source": [
    "conv_base.summary()"
   ]
  },
  {
   "cell_type": "code",
   "execution_count": 161,
   "id": "f4a300f0",
   "metadata": {},
   "outputs": [],
   "source": [
    "output=conv_base.layers[-1].output"
   ]
  },
  {
   "cell_type": "code",
   "execution_count": 162,
   "id": "4c4d6130",
   "metadata": {},
   "outputs": [],
   "source": [
    "flatten=Flatten()(output)\n",
    "Dense1=Dense(128,activation=\"relu\")(flatten)\n",
    "Dense2=Dense(128,activation=\"relu\")(flatten)\n",
    "\n",
    "\n",
    "\n",
    "\n",
    "output1=Dense(1,activation=\"linear\",name=\"age\")(Dense1)\n",
    "output2=Dense(1,activation=\"sigmoid\",name=\"sex\")(Dense2)\n",
    "\n"
   ]
  },
  {
   "cell_type": "code",
   "execution_count": 163,
   "id": "6379870d",
   "metadata": {},
   "outputs": [],
   "source": [
    "model3=Model(inputs=conv_base.input,outputs=[output1,output2])"
   ]
  },
  {
   "cell_type": "code",
   "execution_count": 164,
   "id": "b89eb60d",
   "metadata": {},
   "outputs": [
    {
     "name": "stdout",
     "output_type": "stream",
     "text": [
      "Model: \"model_7\"\n",
      "__________________________________________________________________________________________________\n",
      " Layer (type)                Output Shape                 Param #   Connected to                  \n",
      "==================================================================================================\n",
      " input_9 (InputLayer)        [(None, 256, 256, 3)]        0         []                            \n",
      "                                                                                                  \n",
      " conv1 (Conv2D)              (None, 128, 128, 32)         864       ['input_9[0][0]']             \n",
      "                                                                                                  \n",
      " conv1_bn (BatchNormalizati  (None, 128, 128, 32)         128       ['conv1[0][0]']               \n",
      " on)                                                                                              \n",
      "                                                                                                  \n",
      " conv1_relu (ReLU)           (None, 128, 128, 32)         0         ['conv1_bn[0][0]']            \n",
      "                                                                                                  \n",
      " conv_dw_1 (DepthwiseConv2D  (None, 128, 128, 32)         288       ['conv1_relu[0][0]']          \n",
      " )                                                                                                \n",
      "                                                                                                  \n",
      " conv_dw_1_bn (BatchNormali  (None, 128, 128, 32)         128       ['conv_dw_1[0][0]']           \n",
      " zation)                                                                                          \n",
      "                                                                                                  \n",
      " conv_dw_1_relu (ReLU)       (None, 128, 128, 32)         0         ['conv_dw_1_bn[0][0]']        \n",
      "                                                                                                  \n",
      " conv_pw_1 (Conv2D)          (None, 128, 128, 64)         2048      ['conv_dw_1_relu[0][0]']      \n",
      "                                                                                                  \n",
      " conv_pw_1_bn (BatchNormali  (None, 128, 128, 64)         256       ['conv_pw_1[0][0]']           \n",
      " zation)                                                                                          \n",
      "                                                                                                  \n",
      " conv_pw_1_relu (ReLU)       (None, 128, 128, 64)         0         ['conv_pw_1_bn[0][0]']        \n",
      "                                                                                                  \n",
      " conv_pad_2 (ZeroPadding2D)  (None, 129, 129, 64)         0         ['conv_pw_1_relu[0][0]']      \n",
      "                                                                                                  \n",
      " conv_dw_2 (DepthwiseConv2D  (None, 64, 64, 64)           576       ['conv_pad_2[0][0]']          \n",
      " )                                                                                                \n",
      "                                                                                                  \n",
      " conv_dw_2_bn (BatchNormali  (None, 64, 64, 64)           256       ['conv_dw_2[0][0]']           \n",
      " zation)                                                                                          \n",
      "                                                                                                  \n",
      " conv_dw_2_relu (ReLU)       (None, 64, 64, 64)           0         ['conv_dw_2_bn[0][0]']        \n",
      "                                                                                                  \n",
      " conv_pw_2 (Conv2D)          (None, 64, 64, 128)          8192      ['conv_dw_2_relu[0][0]']      \n",
      "                                                                                                  \n",
      " conv_pw_2_bn (BatchNormali  (None, 64, 64, 128)          512       ['conv_pw_2[0][0]']           \n",
      " zation)                                                                                          \n",
      "                                                                                                  \n",
      " conv_pw_2_relu (ReLU)       (None, 64, 64, 128)          0         ['conv_pw_2_bn[0][0]']        \n",
      "                                                                                                  \n",
      " conv_dw_3 (DepthwiseConv2D  (None, 64, 64, 128)          1152      ['conv_pw_2_relu[0][0]']      \n",
      " )                                                                                                \n",
      "                                                                                                  \n",
      " conv_dw_3_bn (BatchNormali  (None, 64, 64, 128)          512       ['conv_dw_3[0][0]']           \n",
      " zation)                                                                                          \n",
      "                                                                                                  \n",
      " conv_dw_3_relu (ReLU)       (None, 64, 64, 128)          0         ['conv_dw_3_bn[0][0]']        \n",
      "                                                                                                  \n",
      " conv_pw_3 (Conv2D)          (None, 64, 64, 128)          16384     ['conv_dw_3_relu[0][0]']      \n",
      "                                                                                                  \n",
      " conv_pw_3_bn (BatchNormali  (None, 64, 64, 128)          512       ['conv_pw_3[0][0]']           \n",
      " zation)                                                                                          \n",
      "                                                                                                  \n",
      " conv_pw_3_relu (ReLU)       (None, 64, 64, 128)          0         ['conv_pw_3_bn[0][0]']        \n",
      "                                                                                                  \n",
      " conv_pad_4 (ZeroPadding2D)  (None, 65, 65, 128)          0         ['conv_pw_3_relu[0][0]']      \n",
      "                                                                                                  \n",
      " conv_dw_4 (DepthwiseConv2D  (None, 32, 32, 128)          1152      ['conv_pad_4[0][0]']          \n",
      " )                                                                                                \n",
      "                                                                                                  \n",
      " conv_dw_4_bn (BatchNormali  (None, 32, 32, 128)          512       ['conv_dw_4[0][0]']           \n",
      " zation)                                                                                          \n",
      "                                                                                                  \n",
      " conv_dw_4_relu (ReLU)       (None, 32, 32, 128)          0         ['conv_dw_4_bn[0][0]']        \n",
      "                                                                                                  \n",
      " conv_pw_4 (Conv2D)          (None, 32, 32, 256)          32768     ['conv_dw_4_relu[0][0]']      \n",
      "                                                                                                  \n",
      " conv_pw_4_bn (BatchNormali  (None, 32, 32, 256)          1024      ['conv_pw_4[0][0]']           \n",
      " zation)                                                                                          \n",
      "                                                                                                  \n",
      " conv_pw_4_relu (ReLU)       (None, 32, 32, 256)          0         ['conv_pw_4_bn[0][0]']        \n",
      "                                                                                                  \n",
      " conv_dw_5 (DepthwiseConv2D  (None, 32, 32, 256)          2304      ['conv_pw_4_relu[0][0]']      \n",
      " )                                                                                                \n",
      "                                                                                                  \n",
      " conv_dw_5_bn (BatchNormali  (None, 32, 32, 256)          1024      ['conv_dw_5[0][0]']           \n",
      " zation)                                                                                          \n",
      "                                                                                                  \n",
      " conv_dw_5_relu (ReLU)       (None, 32, 32, 256)          0         ['conv_dw_5_bn[0][0]']        \n"
     ]
    },
    {
     "name": "stdout",
     "output_type": "stream",
     "text": [
      "                                                                                                  \n",
      " conv_pw_5 (Conv2D)          (None, 32, 32, 256)          65536     ['conv_dw_5_relu[0][0]']      \n",
      "                                                                                                  \n",
      " conv_pw_5_bn (BatchNormali  (None, 32, 32, 256)          1024      ['conv_pw_5[0][0]']           \n",
      " zation)                                                                                          \n",
      "                                                                                                  \n",
      " conv_pw_5_relu (ReLU)       (None, 32, 32, 256)          0         ['conv_pw_5_bn[0][0]']        \n",
      "                                                                                                  \n",
      " conv_pad_6 (ZeroPadding2D)  (None, 33, 33, 256)          0         ['conv_pw_5_relu[0][0]']      \n",
      "                                                                                                  \n",
      " conv_dw_6 (DepthwiseConv2D  (None, 16, 16, 256)          2304      ['conv_pad_6[0][0]']          \n",
      " )                                                                                                \n",
      "                                                                                                  \n",
      " conv_dw_6_bn (BatchNormali  (None, 16, 16, 256)          1024      ['conv_dw_6[0][0]']           \n",
      " zation)                                                                                          \n",
      "                                                                                                  \n",
      " conv_dw_6_relu (ReLU)       (None, 16, 16, 256)          0         ['conv_dw_6_bn[0][0]']        \n",
      "                                                                                                  \n",
      " conv_pw_6 (Conv2D)          (None, 16, 16, 512)          131072    ['conv_dw_6_relu[0][0]']      \n",
      "                                                                                                  \n",
      " conv_pw_6_bn (BatchNormali  (None, 16, 16, 512)          2048      ['conv_pw_6[0][0]']           \n",
      " zation)                                                                                          \n",
      "                                                                                                  \n",
      " conv_pw_6_relu (ReLU)       (None, 16, 16, 512)          0         ['conv_pw_6_bn[0][0]']        \n",
      "                                                                                                  \n",
      " conv_dw_7 (DepthwiseConv2D  (None, 16, 16, 512)          4608      ['conv_pw_6_relu[0][0]']      \n",
      " )                                                                                                \n",
      "                                                                                                  \n",
      " conv_dw_7_bn (BatchNormali  (None, 16, 16, 512)          2048      ['conv_dw_7[0][0]']           \n",
      " zation)                                                                                          \n",
      "                                                                                                  \n",
      " conv_dw_7_relu (ReLU)       (None, 16, 16, 512)          0         ['conv_dw_7_bn[0][0]']        \n",
      "                                                                                                  \n",
      " conv_pw_7 (Conv2D)          (None, 16, 16, 512)          262144    ['conv_dw_7_relu[0][0]']      \n",
      "                                                                                                  \n",
      " conv_pw_7_bn (BatchNormali  (None, 16, 16, 512)          2048      ['conv_pw_7[0][0]']           \n",
      " zation)                                                                                          \n",
      "                                                                                                  \n",
      " conv_pw_7_relu (ReLU)       (None, 16, 16, 512)          0         ['conv_pw_7_bn[0][0]']        \n",
      "                                                                                                  \n",
      " conv_dw_8 (DepthwiseConv2D  (None, 16, 16, 512)          4608      ['conv_pw_7_relu[0][0]']      \n",
      " )                                                                                                \n",
      "                                                                                                  \n",
      " conv_dw_8_bn (BatchNormali  (None, 16, 16, 512)          2048      ['conv_dw_8[0][0]']           \n",
      " zation)                                                                                          \n",
      "                                                                                                  \n",
      " conv_dw_8_relu (ReLU)       (None, 16, 16, 512)          0         ['conv_dw_8_bn[0][0]']        \n",
      "                                                                                                  \n",
      " conv_pw_8 (Conv2D)          (None, 16, 16, 512)          262144    ['conv_dw_8_relu[0][0]']      \n",
      "                                                                                                  \n",
      " conv_pw_8_bn (BatchNormali  (None, 16, 16, 512)          2048      ['conv_pw_8[0][0]']           \n",
      " zation)                                                                                          \n",
      "                                                                                                  \n",
      " conv_pw_8_relu (ReLU)       (None, 16, 16, 512)          0         ['conv_pw_8_bn[0][0]']        \n",
      "                                                                                                  \n",
      " conv_dw_9 (DepthwiseConv2D  (None, 16, 16, 512)          4608      ['conv_pw_8_relu[0][0]']      \n",
      " )                                                                                                \n",
      "                                                                                                  \n",
      " conv_dw_9_bn (BatchNormali  (None, 16, 16, 512)          2048      ['conv_dw_9[0][0]']           \n",
      " zation)                                                                                          \n",
      "                                                                                                  \n",
      " conv_dw_9_relu (ReLU)       (None, 16, 16, 512)          0         ['conv_dw_9_bn[0][0]']        \n",
      "                                                                                                  \n",
      " conv_pw_9 (Conv2D)          (None, 16, 16, 512)          262144    ['conv_dw_9_relu[0][0]']      \n",
      "                                                                                                  \n",
      " conv_pw_9_bn (BatchNormali  (None, 16, 16, 512)          2048      ['conv_pw_9[0][0]']           \n",
      " zation)                                                                                          \n",
      "                                                                                                  \n",
      " conv_pw_9_relu (ReLU)       (None, 16, 16, 512)          0         ['conv_pw_9_bn[0][0]']        \n",
      "                                                                                                  \n",
      " conv_dw_10 (DepthwiseConv2  (None, 16, 16, 512)          4608      ['conv_pw_9_relu[0][0]']      \n",
      " D)                                                                                               \n",
      "                                                                                                  \n",
      " conv_dw_10_bn (BatchNormal  (None, 16, 16, 512)          2048      ['conv_dw_10[0][0]']          \n",
      " ization)                                                                                         \n",
      "                                                                                                  \n",
      " conv_dw_10_relu (ReLU)      (None, 16, 16, 512)          0         ['conv_dw_10_bn[0][0]']       \n",
      "                                                                                                  \n",
      " conv_pw_10 (Conv2D)         (None, 16, 16, 512)          262144    ['conv_dw_10_relu[0][0]']     \n",
      "                                                                                                  \n",
      " conv_pw_10_bn (BatchNormal  (None, 16, 16, 512)          2048      ['conv_pw_10[0][0]']          \n",
      " ization)                                                                                         \n",
      "                                                                                                  \n"
     ]
    },
    {
     "name": "stdout",
     "output_type": "stream",
     "text": [
      " conv_pw_10_relu (ReLU)      (None, 16, 16, 512)          0         ['conv_pw_10_bn[0][0]']       \n",
      "                                                                                                  \n",
      " conv_dw_11 (DepthwiseConv2  (None, 16, 16, 512)          4608      ['conv_pw_10_relu[0][0]']     \n",
      " D)                                                                                               \n",
      "                                                                                                  \n",
      " conv_dw_11_bn (BatchNormal  (None, 16, 16, 512)          2048      ['conv_dw_11[0][0]']          \n",
      " ization)                                                                                         \n",
      "                                                                                                  \n",
      " conv_dw_11_relu (ReLU)      (None, 16, 16, 512)          0         ['conv_dw_11_bn[0][0]']       \n",
      "                                                                                                  \n",
      " conv_pw_11 (Conv2D)         (None, 16, 16, 512)          262144    ['conv_dw_11_relu[0][0]']     \n",
      "                                                                                                  \n",
      " conv_pw_11_bn (BatchNormal  (None, 16, 16, 512)          2048      ['conv_pw_11[0][0]']          \n",
      " ization)                                                                                         \n",
      "                                                                                                  \n",
      " conv_pw_11_relu (ReLU)      (None, 16, 16, 512)          0         ['conv_pw_11_bn[0][0]']       \n",
      "                                                                                                  \n",
      " conv_pad_12 (ZeroPadding2D  (None, 17, 17, 512)          0         ['conv_pw_11_relu[0][0]']     \n",
      " )                                                                                                \n",
      "                                                                                                  \n",
      " conv_dw_12 (DepthwiseConv2  (None, 8, 8, 512)            4608      ['conv_pad_12[0][0]']         \n",
      " D)                                                                                               \n",
      "                                                                                                  \n",
      " conv_dw_12_bn (BatchNormal  (None, 8, 8, 512)            2048      ['conv_dw_12[0][0]']          \n",
      " ization)                                                                                         \n",
      "                                                                                                  \n",
      " conv_dw_12_relu (ReLU)      (None, 8, 8, 512)            0         ['conv_dw_12_bn[0][0]']       \n",
      "                                                                                                  \n",
      " conv_pw_12 (Conv2D)         (None, 8, 8, 1024)           524288    ['conv_dw_12_relu[0][0]']     \n",
      "                                                                                                  \n",
      " conv_pw_12_bn (BatchNormal  (None, 8, 8, 1024)           4096      ['conv_pw_12[0][0]']          \n",
      " ization)                                                                                         \n",
      "                                                                                                  \n",
      " conv_pw_12_relu (ReLU)      (None, 8, 8, 1024)           0         ['conv_pw_12_bn[0][0]']       \n",
      "                                                                                                  \n",
      " conv_dw_13 (DepthwiseConv2  (None, 8, 8, 1024)           9216      ['conv_pw_12_relu[0][0]']     \n",
      " D)                                                                                               \n",
      "                                                                                                  \n",
      " conv_dw_13_bn (BatchNormal  (None, 8, 8, 1024)           4096      ['conv_dw_13[0][0]']          \n",
      " ization)                                                                                         \n",
      "                                                                                                  \n",
      " conv_dw_13_relu (ReLU)      (None, 8, 8, 1024)           0         ['conv_dw_13_bn[0][0]']       \n",
      "                                                                                                  \n",
      " conv_pw_13 (Conv2D)         (None, 8, 8, 1024)           1048576   ['conv_dw_13_relu[0][0]']     \n",
      "                                                                                                  \n",
      " conv_pw_13_bn (BatchNormal  (None, 8, 8, 1024)           4096      ['conv_pw_13[0][0]']          \n",
      " ization)                                                                                         \n",
      "                                                                                                  \n",
      " conv_pw_13_relu (ReLU)      (None, 8, 8, 1024)           0         ['conv_pw_13_bn[0][0]']       \n",
      "                                                                                                  \n",
      " flatten_10 (Flatten)        (None, 65536)                0         ['conv_pw_13_relu[0][0]']     \n",
      "                                                                                                  \n",
      " dense_13 (Dense)            (None, 128)                  8388736   ['flatten_10[0][0]']          \n",
      "                                                                                                  \n",
      " dense_14 (Dense)            (None, 128)                  8388736   ['flatten_10[0][0]']          \n",
      "                                                                                                  \n",
      " age (Dense)                 (None, 1)                    129       ['dense_13[0][0]']            \n",
      "                                                                                                  \n",
      " sex (Dense)                 (None, 1)                    129       ['dense_14[0][0]']            \n",
      "                                                                                                  \n",
      "==================================================================================================\n",
      "Total params: 20006594 (76.32 MB)\n",
      "Trainable params: 16777730 (64.00 MB)\n",
      "Non-trainable params: 3228864 (12.32 MB)\n",
      "__________________________________________________________________________________________________\n"
     ]
    }
   ],
   "source": [
    "model3.summary()"
   ]
  },
  {
   "cell_type": "code",
   "execution_count": 155,
   "id": "7852cfd8",
   "metadata": {},
   "outputs": [
    {
     "name": "stdout",
     "output_type": "stream",
     "text": [
      "Found 18966 validated image filenames.\n"
     ]
    }
   ],
   "source": [
    "train_img=train_datagen.flow_from_dataframe(train_df,directory=r\"D:\\Ukface\\archive (5)\\UTKFace\",x_col='img',\n",
    "                                           y_col=[\"age\",\"sex\"],batch_size=32,class_mode=\"multi_output\",)"
   ]
  },
  {
   "cell_type": "code",
   "execution_count": 156,
   "id": "7f35dc0e",
   "metadata": {},
   "outputs": [
    {
     "name": "stdout",
     "output_type": "stream",
     "text": [
      "Found 4742 validated image filenames.\n"
     ]
    }
   ],
   "source": [
    "test_img=test_datagen.flow_from_dataframe(test_df,directory=r\"D:\\Ukface\\archive (5)\\UTKFace\",x_col='img',\n",
    "                                           y_col=[\"age\",\"sex\"],batch_size=32,class_mode=\"multi_output\",)"
   ]
  },
  {
   "cell_type": "code",
   "execution_count": 165,
   "id": "a58ef6c1",
   "metadata": {},
   "outputs": [],
   "source": [
    "model3.compile(optimizer=\"Adam\",loss={\"sex\":\"binary_crossentropy\",\"age\":\"mae\"},\n",
    "               metrics={\"age\":\"mae\",\"sex\":\"accuracy\"})"
   ]
  },
  {
   "cell_type": "code",
   "execution_count": 166,
   "id": "53d98287",
   "metadata": {
    "scrolled": false
   },
   "outputs": [
    {
     "name": "stdout",
     "output_type": "stream",
     "text": [
      "Epoch 1/5\n",
      "80/80 [==============================] - 128s 2s/step - loss: 18.9389 - age_loss: 15.9211 - sex_loss: 3.0178 - age_mae: 15.9211 - sex_accuracy: 0.7477 - val_loss: 9.7373 - val_age_loss: 9.1631 - val_sex_loss: 0.5743 - val_age_mae: 9.1631 - val_sex_accuracy: 0.8581\n",
      "Epoch 2/5\n",
      "80/80 [==============================] - 125s 2s/step - loss: 9.9003 - age_loss: 9.1160 - sex_loss: 0.7842 - age_mae: 9.1160 - sex_accuracy: 0.8309 - val_loss: 9.2340 - val_age_loss: 8.4362 - val_sex_loss: 0.7977 - val_age_mae: 8.4362 - val_sex_accuracy: 0.8507\n",
      "Epoch 3/5\n",
      "80/80 [==============================] - 125s 2s/step - loss: 9.5516 - age_loss: 8.8063 - sex_loss: 0.7452 - age_mae: 8.8063 - sex_accuracy: 0.8367 - val_loss: 10.0515 - val_age_loss: 9.3788 - val_sex_loss: 0.6727 - val_age_mae: 9.3788 - val_sex_accuracy: 0.8596\n",
      "Epoch 4/5\n",
      "80/80 [==============================] - 123s 2s/step - loss: 8.9560 - age_loss: 8.3696 - sex_loss: 0.5864 - age_mae: 8.3696 - sex_accuracy: 0.8547 - val_loss: 8.4472 - val_age_loss: 7.9199 - val_sex_loss: 0.5273 - val_age_mae: 7.9199 - val_sex_accuracy: 0.8671\n",
      "Epoch 5/5\n",
      "80/80 [==============================] - 125s 2s/step - loss: 8.9977 - age_loss: 8.4194 - sex_loss: 0.5783 - age_mae: 8.4194 - sex_accuracy: 0.8430 - val_loss: 8.4733 - val_age_loss: 7.8649 - val_sex_loss: 0.6084 - val_age_mae: 7.8649 - val_sex_accuracy: 0.8456\n"
     ]
    },
    {
     "data": {
      "text/plain": [
       "<keras.src.callbacks.History at 0x2a6d291ae50>"
      ]
     },
     "execution_count": 166,
     "metadata": {},
     "output_type": "execute_result"
    }
   ],
   "source": [
    "model3.fit_generator(train_img,epochs=5,validation_data=test_img,steps_per_epoch=80)"
   ]
  },
  {
   "cell_type": "code",
   "execution_count": 167,
   "id": "9e88fdac",
   "metadata": {},
   "outputs": [
    {
     "name": "stdout",
     "output_type": "stream",
     "text": [
      "Epoch 7/10\n",
      "80/80 [==============================] - 146s 2s/step - loss: 8.6592 - age_loss: 8.2019 - sex_loss: 0.4573 - age_mae: 8.2019 - sex_accuracy: 0.8559 - val_loss: 8.0091 - val_age_loss: 7.6047 - val_sex_loss: 0.4044 - val_age_mae: 7.6047 - val_sex_accuracy: 0.8733\n",
      "Epoch 8/10\n",
      "80/80 [==============================] - 126s 2s/step - loss: 8.0245 - age_loss: 7.5785 - sex_loss: 0.4461 - age_mae: 7.5785 - sex_accuracy: 0.8486 - val_loss: 7.9880 - val_age_loss: 7.6199 - val_sex_loss: 0.3681 - val_age_mae: 7.6199 - val_sex_accuracy: 0.8781\n",
      "Epoch 9/10\n",
      "80/80 [==============================] - 138s 2s/step - loss: 8.4174 - age_loss: 8.0018 - sex_loss: 0.4156 - age_mae: 8.0018 - sex_accuracy: 0.8566 - val_loss: 8.1211 - val_age_loss: 7.7678 - val_sex_loss: 0.3533 - val_age_mae: 7.7678 - val_sex_accuracy: 0.8749\n",
      "Epoch 10/10\n",
      "80/80 [==============================] - 137s 2s/step - loss: 7.7438 - age_loss: 7.4268 - sex_loss: 0.3170 - age_mae: 7.4268 - sex_accuracy: 0.8770 - val_loss: 8.8081 - val_age_loss: 8.4547 - val_sex_loss: 0.3534 - val_age_mae: 8.4547 - val_sex_accuracy: 0.8747\n"
     ]
    },
    {
     "data": {
      "text/plain": [
       "<keras.src.callbacks.History at 0x2a6d2b966d0>"
      ]
     },
     "execution_count": 167,
     "metadata": {},
     "output_type": "execute_result"
    }
   ],
   "source": [
    "model3.fit_generator(train_img,epochs=10,validation_data=test_img,steps_per_epoch=80,initial_epoch=6)"
   ]
  },
  {
   "cell_type": "code",
   "execution_count": 168,
   "id": "2c7ba80b",
   "metadata": {},
   "outputs": [
    {
     "name": "stdout",
     "output_type": "stream",
     "text": [
      "Epoch 12/13\n",
      "80/80 [==============================] - 120s 2s/step - loss: 7.7811 - age_loss: 7.4746 - sex_loss: 0.3065 - age_mae: 7.4746 - sex_accuracy: 0.8820 - val_loss: 7.6738 - val_age_loss: 7.3546 - val_sex_loss: 0.3192 - val_age_mae: 7.3546 - val_sex_accuracy: 0.8771\n",
      "Epoch 13/13\n",
      "80/80 [==============================] - 120s 2s/step - loss: 7.8091 - age_loss: 7.5201 - sex_loss: 0.2890 - age_mae: 7.5201 - sex_accuracy: 0.8902 - val_loss: 7.5803 - val_age_loss: 7.2595 - val_sex_loss: 0.3208 - val_age_mae: 7.2595 - val_sex_accuracy: 0.8827\n"
     ]
    },
    {
     "data": {
      "text/plain": [
       "<keras.src.callbacks.History at 0x2a6d79e4e50>"
      ]
     },
     "execution_count": 168,
     "metadata": {},
     "output_type": "execute_result"
    }
   ],
   "source": [
    "model3.fit_generator(train_img,epochs=13,validation_data=test_img,steps_per_epoch=80,initial_epoch=11)"
   ]
  },
  {
   "cell_type": "markdown",
   "id": "3e3bf0b8",
   "metadata": {},
   "source": [
    "**we got validation accurcay=88% for sex  and validation MAE =7.25 by using only one layer for gender and one layer for sex(hidden) which is quite good. We can even get better accuracy by using little more complex model but for Now our purpose is to just learn functional API of keras that how we can fit model for multioutput or multiinput using keras functional API . We also used MobileNet and VGG16 CNN architecture**"
   ]
  },
  {
   "cell_type": "code",
   "execution_count": null,
   "id": "0c518569",
   "metadata": {},
   "outputs": [],
   "source": []
  }
 ],
 "metadata": {
  "kernelspec": {
   "display_name": "Python 3 (ipykernel)",
   "language": "python",
   "name": "python3"
  },
  "language_info": {
   "codemirror_mode": {
    "name": "ipython",
    "version": 3
   },
   "file_extension": ".py",
   "mimetype": "text/x-python",
   "name": "python",
   "nbconvert_exporter": "python",
   "pygments_lexer": "ipython3",
   "version": "3.11.4"
  }
 },
 "nbformat": 4,
 "nbformat_minor": 5
}
